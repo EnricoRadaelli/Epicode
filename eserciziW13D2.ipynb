{
 "cells": [
  {
   "cell_type": "code",
   "execution_count": 1,
   "id": "becd8e20-5b2b-4bc5-b9a0-336430ab98a1",
   "metadata": {},
   "outputs": [
    {
     "name": "stdout",
     "output_type": "stream",
     "text": [
      "E\n",
      "p\n",
      "i\n",
      "c\n",
      "o\n",
      "d\n",
      "e\n"
     ]
    }
   ],
   "source": [
    "nome_scuola = 'Epicode'\n",
    "conteggio = 0\n",
    "while conteggio < len(nome_scuola):\n",
    "    print(nome_scuola[conteggio])\n",
    "    conteggio += 1"
   ]
  },
  {
   "cell_type": "code",
   "execution_count": 2,
   "id": "288c2b6c-8ea0-47c1-8340-69c1c2a2718b",
   "metadata": {},
   "outputs": [
    {
     "name": "stdout",
     "output_type": "stream",
     "text": [
      "0\n",
      "1\n",
      "2\n",
      "3\n",
      "4\n",
      "5\n",
      "6\n",
      "7\n",
      "8\n",
      "9\n",
      "10\n",
      "11\n",
      "12\n",
      "13\n",
      "14\n",
      "15\n",
      "16\n",
      "17\n",
      "18\n",
      "19\n",
      "20\n"
     ]
    }
   ],
   "source": [
    "conteggio = 0\n",
    "while conteggio <= 20:\n",
    "    print(conteggio)\n",
    "    conteggio += 1"
   ]
  },
  {
   "cell_type": "code",
   "execution_count": 7,
   "id": "6739519f-d17b-4be9-b2b4-cb543696118c",
   "metadata": {},
   "outputs": [
    {
     "name": "stdout",
     "output_type": "stream",
     "text": [
      "1\n",
      "2\n",
      "4\n",
      "8\n",
      "16\n",
      "32\n",
      "64\n",
      "128\n",
      "256\n",
      "512\n",
      "1024\n"
     ]
    }
   ],
   "source": [
    "conteggio = 0\n",
    "while conteggio <= 10:\n",
    "    print(2**conteggio)\n",
    "    conteggio += 1"
   ]
  },
  {
   "cell_type": "code",
   "execution_count": 8,
   "id": "cc343df3-b122-4761-aa60-7d3a09e2753b",
   "metadata": {},
   "outputs": [
    {
     "name": "stdin",
     "output_type": "stream",
     "text": [
      "Inserisci un numero:  5\n"
     ]
    },
    {
     "name": "stdout",
     "output_type": "stream",
     "text": [
      "1\n",
      "2\n",
      "4\n",
      "8\n",
      "16\n",
      "32\n"
     ]
    }
   ],
   "source": [
    "numero_di_potenze = int(input(\"Inserisci un numero: \"))\n",
    "conteggio = 0\n",
    "while conteggio <= numero_di_potenze:\n",
    "    print(2**conteggio)\n",
    "    conteggio += 1"
   ]
  },
  {
   "cell_type": "code",
   "execution_count": 10,
   "id": "111d0d10-41b1-47f1-a5dd-b31a527f6e6e",
   "metadata": {},
   "outputs": [
    {
     "name": "stdout",
     "output_type": "stream",
     "text": [
      "1\n",
      "1\n",
      "2\n",
      "4\n",
      "8\n",
      "16\n",
      "32\n",
      "64\n",
      "128\n",
      "256\n",
      "512\n",
      "1024\n",
      "2048\n",
      "4096\n",
      "8192\n",
      "16384\n"
     ]
    }
   ],
   "source": [
    "conteggio = 0\n",
    "risultato = 1\n",
    "while risultato < 25000:\n",
    "    print(risultato)\n",
    "    risultato = 2**conteggio\n",
    "    conteggio += 1"
   ]
  },
  {
   "cell_type": "code",
   "execution_count": 11,
   "id": "65bb8694-6b0b-49fd-ad45-23a4b26348e1",
   "metadata": {},
   "outputs": [],
   "source": [
    "studenti = [\"Alex\", \"Bob\", \"Cindy\", \"Dan\", \"Emma\", \"Faith\", \"Grace\", \"Henry\"]\n",
    "corsi = [\"Cybersecurity\", \"Data Analyst\", \"Backend\", \"Frontend\", \"Data Analyst\", \"Backend\"]"
   ]
  },
  {
   "cell_type": "code",
   "execution_count": 26,
   "id": "76890aed-b61d-4610-a0f2-7205cd6c8ec9",
   "metadata": {},
   "outputs": [
    {
     "name": "stdin",
     "output_type": "stream",
     "text": [
      "Inserisci una parola:  ciaone\n"
     ]
    },
    {
     "name": "stdout",
     "output_type": "stream",
     "text": [
      "cia...one\n"
     ]
    }
   ],
   "source": [
    "parola = input('Inserisci una parola: ')\n",
    "nuova_parola = ''\n",
    "if len(parola) < 6:\n",
    "    caratteri_aggiunti = 6 - len(parola)\n",
    "    parola = parola + caratteri_aggiunti * '*'\n",
    "for i in range(6):\n",
    "    if i == 3:\n",
    "        nuova_parola += '...'\n",
    "    nuova_parola += parola[i]\n",
    "print(nuova_parola)"
   ]
  },
  {
   "cell_type": "code",
   "execution_count": 24,
   "id": "a9e9ba06-6214-4bb3-8def-bb67bd2a41a5",
   "metadata": {},
   "outputs": [
    {
     "name": "stdin",
     "output_type": "stream",
     "text": [
      "Inserisci un numero:  180\n"
     ]
    },
    {
     "name": "stdout",
     "output_type": "stream",
     "text": [
      "[2, 2, 3, 3, 5]\n"
     ]
    }
   ],
   "source": [
    "numero_input = int(input('Inserisci un numero: '))\n",
    "fattori = []\n",
    "while numero_input != 1:\n",
    "    for i in range(2, numero_input + 1):\n",
    "        if numero_input % i == 0:\n",
    "            fattori.append(i)\n",
    "            numero_input = int(numero_input / i)\n",
    "            break\n",
    "print(fattori)"
   ]
  },
  {
   "cell_type": "code",
   "execution_count": 25,
   "id": "3631b4af-d9c8-4bbf-a12b-43bf278516ab",
   "metadata": {},
   "outputs": [
    {
     "name": "stdout",
     "output_type": "stream",
     "text": [
      "E\n",
      "p\n",
      "i\n",
      "c\n",
      "o\n",
      "d\n",
      "e\n"
     ]
    }
   ],
   "source": [
    "nome_scuola = 'Epicode'\n",
    "for _ in nome_scuola:\n",
    "    print(_)"
   ]
  },
  {
   "cell_type": "code",
   "execution_count": 28,
   "id": "584743cf-0813-4f46-96f3-715a2614487e",
   "metadata": {},
   "outputs": [
    {
     "name": "stdin",
     "output_type": "stream",
     "text": [
      "Inserire un numero intero:  10\n",
      "Inserire un altro numero intero:  4\n"
     ]
    },
    {
     "name": "stdout",
     "output_type": "stream",
     "text": [
      "[1, 10, 100, 1000, 10000]\n"
     ]
    }
   ],
   "source": [
    "k = int(input('Inserire un numero intero: '))\n",
    "n = int(input('Inserire un altro numero intero: '))\n",
    "potenze = []\n",
    "for i in range(n + 1):\n",
    "    potenze.append(k**i)\n",
    "print(potenze)"
   ]
  },
  {
   "cell_type": "code",
   "execution_count": 32,
   "id": "ab34709a-4e99-442f-886f-3bee2ed7913e",
   "metadata": {},
   "outputs": [
    {
     "name": "stdin",
     "output_type": "stream",
     "text": [
      "Inserire un numero intero:  10\n",
      "Inserire un altro numero intero:  4\n"
     ]
    },
    {
     "name": "stdout",
     "output_type": "stream",
     "text": [
      "[1, 10, 100, 1000, 10000]\n"
     ]
    }
   ],
   "source": [
    "k = int(input('Inserire un numero intero: '))\n",
    "n = int(input('Inserire un altro numero intero: '))\n",
    "conteggio = 0\n",
    "potenze = []\n",
    "while conteggio <= n:\n",
    "    potenze.append(k**conteggio)\n",
    "    conteggio += 1\n",
    "print(potenze)"
   ]
  },
  {
   "cell_type": "code",
   "execution_count": 34,
   "id": "5f757486-b46c-4579-9d5d-c9ecef97cd5a",
   "metadata": {},
   "outputs": [
    {
     "name": "stdout",
     "output_type": "stream",
     "text": [
      "70.0\n"
     ]
    }
   ],
   "source": [
    "guadagni = [100, 90, 70, 40, 50, 80, 90, 120, 80, 20, 50, 50]\n",
    "totale = 0\n",
    "for guadagno in guadagni:\n",
    "    totale += guadagno \n",
    "print(totale / len(guadagni))"
   ]
  },
  {
   "cell_type": "code",
   "execution_count": 36,
   "id": "5392e393-7050-481d-8928-a9744371648d",
   "metadata": {},
   "outputs": [
    {
     "name": "stdout",
     "output_type": "stream",
     "text": [
      "Albergo contiene 1 e\n",
      "Sedia contiene 1 e\n",
      "Borgo contiene 0 e\n",
      "Petalo contiene 1 e\n",
      "Eremo contiene 2 e\n",
      "Belvedere contiene 4 e\n",
      "Semestre contiene 3 e\n",
      "Esteta contiene 2 e\n",
      "Sosta contiene 0 e\n",
      "Orpello contiene 1 e\n",
      "Abete contiene 2 e\n",
      "Orologio contiene 0 e\n",
      "Cesta contiene 1 e\n",
      "Ermellino contiene 2 e\n"
     ]
    }
   ],
   "source": [
    "parole = [\"Albergo\", \"Sedia\", \"Borgo\", \"Petalo\", \"Eremo\", \"Belvedere\", \"Semestre\", \"Esteta\", \"Sosta\", \"Orpello\", \"Abete\", \"Orologio\", \"Cesta\", \"Ermellino\"]\n",
    "for parola in parole:\n",
    "    e_count = 0\n",
    "    for _ in parola.lower():\n",
    "        if _ == 'e':\n",
    "            e_count += 1\n",
    "    print(f'{parola} contiene {e_count} e')"
   ]
  },
  {
   "cell_type": "code",
   "execution_count": 37,
   "id": "57fe28ab-540e-4ef9-85b9-a847d27d3a4a",
   "metadata": {},
   "outputs": [
    {
     "name": "stdout",
     "output_type": "stream",
     "text": [
      "{'Ada': 'Punto', 'Ben': 'Multipla', 'Charlie': 'Golf', 'Debbie': '107'}\n",
      "107\n"
     ]
    }
   ],
   "source": [
    "dizionario = {}\n",
    "dizionario['Ada'] = 'Punto'\n",
    "dizionario['Ben'] = 'Multipla'\n",
    "dizionario['Charlie'] = 'Golf'\n",
    "dizionario['Debbie'] = '107'\n",
    "print(dizionario)\n",
    "print(dizionario['Debbie'])"
   ]
  },
  {
   "cell_type": "code",
   "execution_count": 38,
   "id": "af746708-b105-47b9-9f94-f5161971eab8",
   "metadata": {},
   "outputs": [
    {
     "name": "stdout",
     "output_type": "stream",
     "text": [
      "Punto\n",
      "Golf\n",
      "107\n"
     ]
    }
   ],
   "source": [
    "dizionario_auto = {\"Ada\": \"Punto\", \"Ben\": \"Multipla\", \"Charlie\": \"Golf\", \"Debbie\": \"107\"}\n",
    "for valore in dizionario_auto.values():\n",
    "    if valore != 'Multipla':\n",
    "        print(valore)"
   ]
  },
  {
   "cell_type": "code",
   "execution_count": 39,
   "id": "10f38308-40d8-466f-a68b-56ecb03696e0",
   "metadata": {},
   "outputs": [
    {
     "name": "stdout",
     "output_type": "stream",
     "text": [
      "{'Ada': 'Punto', 'Ben': 'Polo', 'Charlie': 'Golf', 'Debbie': '107', 'Emily': 'A1', 'Fred': 'Octavia', 'Grace': 'Yaris', 'Hugh': 'Clio'}\n"
     ]
    }
   ],
   "source": [
    "dizionario_auto = {\"Ada\": \"Punto\", \"Ben\": \"Multipla\", \"Charlie\": \"Golf\", \"Debbie\": \"107\", \"Emily\": \"A1\"}\n",
    "nuovi_proprietari = {\"Ben\": \"Polo\", \"Fred\": \"Octavia\", \"Grace\": \"Yaris\", \"Hugh\": \"Clio\"}\n",
    "dizionario_auto.update(nuovi_proprietari)\n",
    "print(dizionario_auto)"
   ]
  },
  {
   "cell_type": "code",
   "execution_count": 64,
   "id": "5d0243e2-da0d-44a9-b8eb-35829aa32f78",
   "metadata": {},
   "outputs": [
    {
     "name": "stdin",
     "output_type": "stream",
     "text": [
      "Inserisci un numero:  stop\n"
     ]
    },
    {
     "ename": "ValueError",
     "evalue": "min() arg is an empty sequence",
     "output_type": "error",
     "traceback": [
      "\u001b[1;31m---------------------------------------------------------------------------\u001b[0m",
      "\u001b[1;31mValueError\u001b[0m                                Traceback (most recent call last)",
      "Cell \u001b[1;32mIn[64], line 6\u001b[0m\n\u001b[0;32m      4\u001b[0m     lista_numeri\u001b[38;5;241m.\u001b[39mappend(\u001b[38;5;28mint\u001b[39m(numero))\n\u001b[0;32m      5\u001b[0m     numero \u001b[38;5;241m=\u001b[39m \u001b[38;5;28minput\u001b[39m(\u001b[38;5;124m'\u001b[39m\u001b[38;5;124mInserisci un altro numero, oppure stop per fermarti\u001b[39m\u001b[38;5;124m'\u001b[39m)\n\u001b[1;32m----> 6\u001b[0m \u001b[38;5;28mprint\u001b[39m(\u001b[38;5;124m'\u001b[39m\u001b[38;5;124mIl minimo è:\u001b[39m\u001b[38;5;124m'\u001b[39m, \u001b[38;5;28mmin\u001b[39m(lista_numeri))\n\u001b[0;32m      7\u001b[0m \u001b[38;5;28mprint\u001b[39m(\u001b[38;5;124m'\u001b[39m\u001b[38;5;124mIl massimo è:\u001b[39m\u001b[38;5;124m'\u001b[39m, \u001b[38;5;28mmax\u001b[39m(lista_numeri))\n",
      "\u001b[1;31mValueError\u001b[0m: min() arg is an empty sequence"
     ]
    }
   ],
   "source": [
    "lista_numeri = []\n",
    "numero = input('Inserisci un numero: ')\n",
    "while numero != 'stop':\n",
    "    lista_numeri.append(int(numero))\n",
    "    numero = input('Inserisci un altro numero, oppure stop per fermarti')\n",
    "print('Il minimo è:', min(lista_numeri))\n",
    "print('Il massimo è:', max(lista_numeri))"
   ]
  },
  {
   "cell_type": "code",
   "execution_count": 65,
   "id": "1257d3b6-7634-4aff-b78d-56a139dcbfc1",
   "metadata": {},
   "outputs": [
    {
     "name": "stdin",
     "output_type": "stream",
     "text": [
      "Inserisci un numero:  1\n",
      "Inserisci un altro numero, oppure stop per fermarti:  2\n",
      "Inserisci un altro numero, oppure stop per fermarti:  3\n",
      "Inserisci un altro numero, oppure stop per fermarti:  4\n",
      "Inserisci un altro numero, oppure stop per fermarti:  4\n",
      "Inserisci un altro numero, oppure stop per fermarti:  4\n",
      "Inserisci un altro numero, oppure stop per fermarti:  5\n",
      "Inserisci un altro numero, oppure stop per fermarti:  5\n",
      "Inserisci un altro numero, oppure stop per fermarti:  6\n",
      "Inserisci un altro numero, oppure stop per fermarti:  6\n",
      "Inserisci un altro numero, oppure stop per fermarti:  6\n",
      "Inserisci un altro numero, oppure stop per fermarti:  7\n",
      "Inserisci un altro numero, oppure stop per fermarti:  8\n",
      "Inserisci un altro numero, oppure stop per fermarti:  8\n",
      "Inserisci un altro numero, oppure stop per fermarti:  8\n",
      "Inserisci un altro numero, oppure stop per fermarti:  8\n",
      "Inserisci un altro numero, oppure stop per fermarti:  8\n",
      "Inserisci un altro numero, oppure stop per fermarti:  8\n",
      "Inserisci un altro numero, oppure stop per fermarti:  9\n",
      "Inserisci un altro numero, oppure stop per fermarti:  9\n",
      "Inserisci un altro numero, oppure stop per fermarti:  19\n",
      "Inserisci un altro numero, oppure stop per fermarti:  stop\n"
     ]
    },
    {
     "name": "stdout",
     "output_type": "stream",
     "text": [
      "8\n",
      "9\n",
      "19\n"
     ]
    }
   ],
   "source": [
    "lista_numeri = []\n",
    "numero = input('Inserisci un numero: ')\n",
    "while numero != 'stop':\n",
    "    lista_numeri.append(int(numero))\n",
    "    numero = input('Inserisci un altro numero, oppure stop per fermarti: ')\n",
    "lista_def = []\n",
    "lista_numeri.sort()\n",
    "for num in lista_numeri:\n",
    "    if num not in lista_def:\n",
    "        lista_def.append(num)\n",
    "if len(lista_def) < 3:\n",
    "    for _ in range(3 - len(lista_def)):\n",
    "        lista_def.append('*')\n",
    "for i in range(len(lista_def) - 2, len(lista_def) + 1):\n",
    "    print(lista_def[i - 1])"
   ]
  },
  {
   "cell_type": "code",
   "execution_count": 69,
   "id": "1a712ec7-1883-41d4-9731-b29ab5aa8548",
   "metadata": {},
   "outputs": [
    {
     "name": "stdin",
     "output_type": "stream",
     "text": [
      "Inserisci un numero per la lista:  1\n",
      "Inserisci un altro numero per la lista, oppure stop per fermarti:  2\n",
      "Inserisci un altro numero per la lista, oppure stop per fermarti:  3\n",
      "Inserisci un altro numero per la lista, oppure stop per fermarti:  4\n",
      "Inserisci un altro numero per la lista, oppure stop per fermarti:  5\n",
      "Inserisci un altro numero per la lista, oppure stop per fermarti:  6\n",
      "Inserisci un altro numero per la lista, oppure stop per fermarti:  7\n",
      "Inserisci un altro numero per la lista, oppure stop per fermarti:  8\n",
      "Inserisci un altro numero per la lista, oppure stop per fermarti:  9\n",
      "Inserisci un altro numero per la lista, oppure stop per fermarti:  10\n",
      "Inserisci un altro numero per la lista, oppure stop per fermarti:  11\n",
      "Inserisci un altro numero per la lista, oppure stop per fermarti:  1\n",
      "Inserisci un altro numero per la lista, oppure stop per fermarti:  12\n",
      "Inserisci un altro numero per la lista, oppure stop per fermarti:  13\n",
      "Inserisci un altro numero per la lista, oppure stop per fermarti:  14\n",
      "Inserisci un altro numero per la lista, oppure stop per fermarti:  15\n",
      "Inserisci un altro numero per la lista, oppure stop per fermarti:  stop\n",
      "Inserisci un numero K per la media:  4\n"
     ]
    },
    {
     "name": "stdout",
     "output_type": "stream",
     "text": [
      "La media dei numeri inseriti maggiori di K è: 9.5\n"
     ]
    }
   ],
   "source": [
    "lista_numeri = []\n",
    "numero = input('Inserisci un numero per la lista: ')\n",
    "while numero != 'stop':\n",
    "    lista_numeri.append(int(numero))\n",
    "    numero = input('Inserisci un altro numero per la lista, oppure stop per fermarti: ')\n",
    "k = int(input('Inserisci un numero K per la media: '))\n",
    "lista_def = []\n",
    "for num in lista_numeri:\n",
    "    if num >= k:\n",
    "        lista_def.append(num)\n",
    "if len(lista_def) == 0:\n",
    "    print('Non sono stati inseriti numeri maggiori di K')\n",
    "else:\n",
    "    print('La media dei numeri inseriti maggiori di K è:', sum(lista_def)/len(lista_def))"
   ]
  },
  {
   "cell_type": "code",
   "execution_count": 71,
   "id": "ef502695-2616-42cb-afeb-d13e4681491d",
   "metadata": {},
   "outputs": [
    {
     "name": "stdin",
     "output_type": "stream",
     "text": [
      "Inserisci un numero per la lista:  5\n",
      "Inserisci un altro numero per la lista, oppure stop per fermarti:  4\n",
      "Inserisci un altro numero per la lista, oppure stop per fermarti:  1\n",
      "Inserisci un altro numero per la lista, oppure stop per fermarti:  3\n",
      "Inserisci un altro numero per la lista, oppure stop per fermarti:  2\n",
      "Inserisci un altro numero per la lista, oppure stop per fermarti:  stop\n"
     ]
    },
    {
     "name": "stdout",
     "output_type": "stream",
     "text": [
      "*****\n",
      "****\n",
      "*\n",
      "***\n",
      "**\n"
     ]
    }
   ],
   "source": [
    "lista_numeri = []\n",
    "numero = input('Inserisci un numero per la lista: ')\n",
    "while numero != 'stop':\n",
    "    lista_numeri.append(int(numero))\n",
    "    numero = input('Inserisci un altro numero per la lista, oppure stop per fermarti: ')\n",
    "for num in lista_numeri:\n",
    "    print('*' * num)"
   ]
  },
  {
   "cell_type": "code",
   "execution_count": 79,
   "id": "7ed748eb-594e-448d-ab40-5c956c4bef50",
   "metadata": {},
   "outputs": [
    {
     "name": "stdout",
     "output_type": "stream",
     "text": [
      "['ABCDEF95G01A123B', 'STUVWX95Z04A654E', 'DEFGHI95J06A987G']\n",
      "Nome: ABC Cognome: DEF\n",
      "Nome: STU Cognome: VWX\n",
      "Nome: DEF Cognome: GHI\n"
     ]
    }
   ],
   "source": [
    "lista_cf = [\"ABCDEF95G01A123B\", \"GHIJKL91M02A321C\", \"MNOPQR89S03A456D\", \"STUVWX95Z04A654E\", \"XYZABC01D05A789F\", \"DEFGHI95J06A987G\"]\n",
    "cf_con_95 = []\n",
    "for cf in lista_cf:\n",
    "    if '95' in cf:\n",
    "        cf_con_95.append(cf)\n",
    "print(cf_con_95)\n",
    "for cf in cf_con_95:\n",
    "    nome = ''\n",
    "    cognome = ''\n",
    "    for _ in range(6):\n",
    "        if _ < 3:\n",
    "            nome += cf[_]\n",
    "        else:\n",
    "            cognome += cf[_]\n",
    "    print('Nome: ' + nome + ' ' + 'Cognome: ' + cognome)"
   ]
  },
  {
   "cell_type": "code",
   "execution_count": 82,
   "id": "63d28abf-1403-4c17-9188-4ec7e3ec28b3",
   "metadata": {},
   "outputs": [
    {
     "name": "stdout",
     "output_type": "stream",
     "text": [
      "Alex\n",
      "Faith\n"
     ]
    }
   ],
   "source": [
    "studenti = [\"Alex\", \"Bob\", \"Cindy\", \"Dan\", \"Emma\", \"Faith\", \"Grace\", \"Henry\"]\n",
    "corsi = [\"Cybersecurity\", \"Data Analyst\", \"Backend\", \"Frontend\", \"Data Analyst\", \"Backend\", \"Frontend\", \"Cybersecurity\"]\n",
    "edizioni = [1, 2, 3, 2, 2, 1, 3, 3]\n",
    "dizionario = {}\n",
    "for i in range(len(studenti)):\n",
    "    dizionario[studenti[i]] = edizioni[i]\n",
    "for key in dizionario:\n",
    "    if dizionario[key] == 1:\n",
    "        print(key)"
   ]
  },
  {
   "cell_type": "code",
   "execution_count": 83,
   "id": "9ff20a84-80b8-42e8-9ea1-1afd4873d3dd",
   "metadata": {},
   "outputs": [
    {
     "name": "stdout",
     "output_type": "stream",
     "text": [
      "Alex\n",
      "Faith\n"
     ]
    }
   ],
   "source": [
    "studenti = [\"Alex\", \"Bob\", \"Cindy\", \"Dan\", \"Emma\", \"Faith\", \"Grace\", \"Henry\"]\n",
    "corsi = [\"Cybersecurity\", \"Data Analyst\", \"Backend\", \"Frontend\", \"Data Analyst\", \"Backend\", \"Frontend\", \"Cybersecurity\"]\n",
    "edizioni = [1, 2, 3, 2, 2, 1, 3, 3]\n",
    "for i in range(len(edizioni)):\n",
    "    if edizioni[i] == 1:\n",
    "        print(studenti[i])"
   ]
  },
  {
   "cell_type": "code",
   "execution_count": 86,
   "id": "b35efcab-c654-4d30-8722-605046676993",
   "metadata": {},
   "outputs": [
    {
     "name": "stdout",
     "output_type": "stream",
     "text": [
      "['100 $', '200 $', '500 $', '10 $', '50 $', '70 $']\n"
     ]
    }
   ],
   "source": [
    "prezzi = [\"100 €\", \"200 €\", \"500 €\", \"10 €\", \"50 €\", \"70 €\"]\n",
    "prezzi_dollari = []\n",
    "for prezzo in prezzi:\n",
    "    x = prezzo.replace('€', '$')\n",
    "    prezzi_dollari.append(x)\n",
    "print(prezzi_dollari)"
   ]
  },
  {
   "cell_type": "code",
   "execution_count": 87,
   "id": "c95d87ad-7f25-4357-8a82-4bdf19f905be",
   "metadata": {},
   "outputs": [
    {
     "name": "stdout",
     "output_type": "stream",
     "text": [
      "['Alex', 'Cindy', 'Emma', 'Grace', 'Isabelle']\n",
      "['Bob', 'Dan', 'Faith', 'Henry', 'John']\n"
     ]
    }
   ],
   "source": [
    "studenti = [\"Alex\", \"Bob\", \"Cindy\", \"Dan\", \"Emma\", \"Faith\", \"Grace\", \"Henry\", \"Isabelle\", \"John\"]\n",
    "squadra_pari = []\n",
    "squadra_dispari = []\n",
    "for i in range(len(studenti)):\n",
    "    if i % 2 == 0:\n",
    "        squadra_pari.append(studenti[i])\n",
    "    else:\n",
    "        squadra_dispari.append(studenti[i])\n",
    "print(squadra_pari)\n",
    "print(squadra_dispari)"
   ]
  },
  {
   "cell_type": "code",
   "execution_count": 105,
   "id": "65a63e3b-3ae5-4e11-af0d-125c7c8a859b",
   "metadata": {},
   "outputs": [
    {
     "name": "stdout",
     "output_type": "stream",
     "text": [
      "Mese 1: 100 €\n",
      "Mese 2: 90 € (media prec: 95 € - il guadagno attuale è minore.)\n",
      "Mese 3: 70 € (media prec: 86 € - il guadagno attuale è minore.)\n",
      "Mese 4: 40 € (media prec: 75 € - il guadagno attuale è minore.)\n",
      "Mese 5: 50 € (media prec: 70 € - il guadagno attuale è minore.)\n",
      "Mese 6: 80 € (media prec: 71 € - il guadagno attuale è maggiore.)\n",
      "Mese 7: 90 € (media prec: 74 € - il guadagno attuale è maggiore.)\n",
      "Mese 8: 120 € (media prec: 80 € - il guadagno attuale è maggiore.)\n",
      "Mese 9: 80 € (media prec: 80 € - il guadagno attuale è maggiore.)\n",
      "Mese 10: 20 € (media prec: 74 € - il guadagno attuale è minore.)\n",
      "Mese 11: 50 € (media prec: 71 € - il guadagno attuale è minore.)\n",
      "Mese 12: 50 € (media prec: 70 € - il guadagno attuale è minore.)\n"
     ]
    }
   ],
   "source": [
    "guadagni = [100, 90, 70, 40, 50, 80, 90, 120, 80, 20, 50, 50]\n",
    "totale = 0\n",
    "num_mese = 0\n",
    "for i in range(len(guadagni)):\n",
    "    totale += guadagni[i]\n",
    "    num_mese += 1\n",
    "    media = int(totale / num_mese)\n",
    "    if i == 0:\n",
    "        print(f'Mese {num_mese}: {guadagni[i]} €')\n",
    "    else:\n",
    "        if guadagni[i] >= media:\n",
    "            print(f'Mese {num_mese}: {guadagni[i]} € (media prec: {media} € - il guadagno attuale è maggiore.)')\n",
    "        else:\n",
    "            print(f'Mese {num_mese}: {guadagni[i]} € (media prec: {media} € - il guadagno attuale è minore.)')"
   ]
  },
  {
   "cell_type": "code",
   "execution_count": null,
   "id": "3182efd0-63d4-453a-95dc-4a8b912be726",
   "metadata": {},
   "outputs": [],
   "source": []
  }
 ],
 "metadata": {
  "kernelspec": {
   "display_name": "Python 3 (ipykernel)",
   "language": "python",
   "name": "python3"
  },
  "language_info": {
   "codemirror_mode": {
    "name": "ipython",
    "version": 3
   },
   "file_extension": ".py",
   "mimetype": "text/x-python",
   "name": "python",
   "nbconvert_exporter": "python",
   "pygments_lexer": "ipython3",
   "version": "3.11.7"
  }
 },
 "nbformat": 4,
 "nbformat_minor": 5
}
