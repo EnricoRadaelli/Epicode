{
 "cells": [
  {
   "cell_type": "code",
   "execution_count": 2,
   "id": "36fb43c0-0573-4701-95c7-7f1f17d9f083",
   "metadata": {},
   "outputs": [],
   "source": [
    "import math"
   ]
  },
  {
   "cell_type": "code",
   "execution_count": 8,
   "id": "8ca08038-539f-457c-920b-eafc012da9af",
   "metadata": {},
   "outputs": [
    {
     "name": "stdout",
     "output_type": "stream",
     "text": [
      "0.8939966636005579\n",
      "-0.4480736161291701\n",
      "6\n"
     ]
    }
   ],
   "source": [
    "print(math.sin(90))\n",
    "print(math.cos(90))\n",
    "print(math.factorial(3))"
   ]
  },
  {
   "cell_type": "code",
   "execution_count": 9,
   "id": "19a6362a-49e0-4cad-9d70-b25643482e5e",
   "metadata": {},
   "outputs": [
    {
     "data": {
      "text/plain": [
       "3.141592653589793"
      ]
     },
     "execution_count": 9,
     "metadata": {},
     "output_type": "execute_result"
    }
   ],
   "source": [
    "math.pi"
   ]
  },
  {
   "cell_type": "code",
   "execution_count": 10,
   "id": "2718d24d-47f5-4a67-a132-75863990cd1a",
   "metadata": {},
   "outputs": [
    {
     "data": {
      "text/plain": [
       "180.0"
      ]
     },
     "execution_count": 10,
     "metadata": {},
     "output_type": "execute_result"
    }
   ],
   "source": [
    "math.degrees(math.pi)"
   ]
  },
  {
   "cell_type": "code",
   "execution_count": 11,
   "id": "6f855a90-3ee3-499d-8351-1ab639fb92dc",
   "metadata": {},
   "outputs": [
    {
     "name": "stdout",
     "output_type": "stream",
     "text": [
      "Help on built-in function degrees in module math:\n",
      "\n",
      "degrees(x, /)\n",
      "    Convert angle x from radians to degrees.\n",
      "\n"
     ]
    }
   ],
   "source": [
    "help(math.degrees)"
   ]
  },
  {
   "cell_type": "code",
   "execution_count": 12,
   "id": "068983e4-7b2a-4275-a783-a5f1212efbe2",
   "metadata": {},
   "outputs": [],
   "source": [
    "import numpy as np"
   ]
  },
  {
   "cell_type": "code",
   "execution_count": 13,
   "id": "839cc6dc-dd97-46b5-b83b-393a29de7c02",
   "metadata": {},
   "outputs": [],
   "source": [
    "lst = [2000, 5500, 7200, 4320, 1280, 1900, 2500, 3900, 6410, 8150, 7100, 5350]\n",
    "lst = np.array(lst)"
   ]
  },
  {
   "cell_type": "code",
   "execution_count": 17,
   "id": "62412d6c-5948-4ec2-b3b0-cb3a5d2014af",
   "metadata": {},
   "outputs": [
    {
     "name": "stdout",
     "output_type": "stream",
     "text": [
      "8150\n"
     ]
    }
   ],
   "source": [
    "print(np.max(lst))"
   ]
  },
  {
   "cell_type": "code",
   "execution_count": 20,
   "id": "a9555d1b-a02a-4381-b0ea-3e021c847032",
   "metadata": {},
   "outputs": [
    {
     "name": "stdout",
     "output_type": "stream",
     "text": [
      "[5500 7200 6410 8150 7100 5350]\n",
      "6\n"
     ]
    }
   ],
   "source": [
    "filtro = lst > 4999\n",
    "vendite_maggiori_4999 = lst[filtro]\n",
    "print(vendite_maggiori_4999)\n",
    "print(vendite_maggiori_4999.size)"
   ]
  },
  {
   "cell_type": "code",
   "execution_count": 21,
   "id": "58fb808b-bc41-4e1b-a966-37d0987a83fe",
   "metadata": {},
   "outputs": [
    {
     "name": "stdout",
     "output_type": "stream",
     "text": [
      "[2000 1280 1900 2500]\n"
     ]
    }
   ],
   "source": [
    "filtro_2 = lst < 3000\n",
    "vendite_minori_3000 = lst[filtro_2]\n",
    "print(vendite_minori_3000)"
   ]
  },
  {
   "cell_type": "code",
   "execution_count": 22,
   "id": "87805acc-54eb-4ae0-b5d5-1d7914c1245b",
   "metadata": {},
   "outputs": [
    {
     "name": "stdout",
     "output_type": "stream",
     "text": [
      "4634.166666666667\n"
     ]
    }
   ],
   "source": [
    "print(np.mean(lst))"
   ]
  },
  {
   "cell_type": "code",
   "execution_count": 23,
   "id": "ce3e4f5b-fd90-4266-9396-515874ab8e31",
   "metadata": {},
   "outputs": [],
   "source": [
    "stipendi = np.array( [100, 200, 300, 400, 500,  600, 700, 800, 900, 1000] )"
   ]
  },
  {
   "cell_type": "code",
   "execution_count": 26,
   "id": "81f5954b-4544-4acb-8230-1e8fa67003d8",
   "metadata": {},
   "outputs": [
    {
     "name": "stdout",
     "output_type": "stream",
     "text": [
      "[ 200  400  600  800 1000 1200 1400 1600 1800 2000]\n"
     ]
    }
   ],
   "source": [
    "for i in range(len(stipendi)):\n",
    "    stipendi[i] *= 2\n",
    "print(stipendi)"
   ]
  },
  {
   "cell_type": "code",
   "execution_count": 27,
   "id": "038a1fb0-e05a-457f-aa1d-43f0528d7aa0",
   "metadata": {},
   "outputs": [
    {
     "data": {
      "text/plain": [
       "array([ 400,  800, 1200, 1600, 2000, 2400, 2800, 3200, 3600, 4000])"
      ]
     },
     "execution_count": 27,
     "metadata": {},
     "output_type": "execute_result"
    }
   ],
   "source": [
    "stipendi * 2"
   ]
  },
  {
   "cell_type": "code",
   "execution_count": null,
   "id": "9bd5f3dd-389d-4b5a-b05e-799678d9a426",
   "metadata": {},
   "outputs": [],
   "source": []
  }
 ],
 "metadata": {
  "kernelspec": {
   "display_name": "Python 3 (ipykernel)",
   "language": "python",
   "name": "python3"
  },
  "language_info": {
   "codemirror_mode": {
    "name": "ipython",
    "version": 3
   },
   "file_extension": ".py",
   "mimetype": "text/x-python",
   "name": "python",
   "nbconvert_exporter": "python",
   "pygments_lexer": "ipython3",
   "version": "3.11.7"
  }
 },
 "nbformat": 4,
 "nbformat_minor": 5
}
